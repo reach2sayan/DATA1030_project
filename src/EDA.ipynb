{
 "cells": [
  {
   "cell_type": "code",
   "execution_count": 1,
   "metadata": {
    "scrolled": true
   },
   "outputs": [],
   "source": [
    "import pandas as pd\n",
    "import numpy as np\n",
    "import matplotlib.pyplot as plt\n",
    "import matplotlib.ticker\n",
    "import pprint\n",
    "import itertools\n",
    "import seaborn as sns\n",
    "path_to_data = '/home/sayan/Documents/Data Science/DATA1030/project/data'"
   ]
  },
  {
   "cell_type": "code",
   "execution_count": 2,
   "metadata": {
    "scrolled": true
   },
   "outputs": [],
   "source": [
    "df = pd.read_csv(path_to_data+'/data_pp.csv')\n",
    "df_raw = pd.read_csv(path_to_data+'/data_raw_final_date_separated.csv')\n",
    "#print(df_raw.isnull().sum(axis=0)/df_raw.shape[0])\n",
    "df.round(4);\n",
    "df_raw.round(4);"
   ]
  },
  {
   "cell_type": "code",
   "execution_count": 3,
   "metadata": {},
   "outputs": [
    {
     "data": {
      "text/plain": [
       "Index(['length', 'key', 'duration_ms', 'tempo', 'time_signature', 'loudness',\n",
       "       'date_year', 'date_month', 'date_day', 'decade', 'acousticness',\n",
       "       'speechiness', 'instrumentalness', 'danceability', 'valence',\n",
       "       'liveness', 'mode', 'energy', 'id', 'album_id', 'billboard',\n",
       "       'track_length'],\n",
       "      dtype='object')"
      ]
     },
     "execution_count": 3,
     "metadata": {},
     "output_type": "execute_result"
    }
   ],
   "source": [
    "df.columns"
   ]
  },
  {
   "cell_type": "markdown",
   "metadata": {},
   "source": [
    "### Remove some outlier dates"
   ]
  },
  {
   "cell_type": "code",
   "execution_count": 4,
   "metadata": {
    "scrolled": false
   },
   "outputs": [
    {
     "data": {
      "text/plain": [
       "1.0    0.88862\n",
       "0.0    0.11138\n",
       "Name: billboard, dtype: float64"
      ]
     },
     "execution_count": 4,
     "metadata": {},
     "output_type": "execute_result"
    }
   ],
   "source": [
    "label = 'billboard'\n",
    "df.columns\n",
    "indexNames = df[ df_raw['decade'] < 1950].index\n",
    "\n",
    "df = df.drop(indexNames , inplace=False)\n",
    "df_raw = df_raw.drop(indexNames , inplace=False)\n",
    "pd.value_counts(df['billboard'],normalize=(True))"
   ]
  },
  {
   "cell_type": "code",
   "execution_count": 5,
   "metadata": {
    "scrolled": true
   },
   "outputs": [
    {
     "data": {
      "image/png": "[encoded data removed]",
      "text/plain": [
       "<matplotlib.figure.Figure at 0x7f240522add8>"
      ]
     },
     "metadata": {},
     "output_type": "display_data"
    }
   ],
   "source": [
    "df_raw.head()\n",
    "df_raw['decade'].hist(bins=5)\n",
    "plt.savefig('../figures/billboard_decade.png')"
   ]
  },
  {
   "cell_type": "code",
   "execution_count": null,
   "metadata": {
    "scrolled": true
   },
   "outputs": [],
   "source": [
    "cont_cols = ['acousticness', 'danceability', 'duration_ms', 'energy',\n",
    "       'instrumentalness', 'key', 'liveness', 'loudness', 'date_year',\n",
    "       'speechiness', 'tempo', 'time_signature', 'valence', 'length']"
   ]
  },
  {
   "cell_type": "markdown",
   "metadata": {},
   "source": [
    "## Describing each feature"
   ]
  },
  {
   "cell_type": "markdown",
   "metadata": {},
   "source": [
    "### Distribution of year"
   ]
  },
  {
   "cell_type": "code",
   "execution_count": null,
   "metadata": {},
   "outputs": [],
   "source": [
    "df_raw['date_year'].hist(normed=True)"
   ]
  },
  {
   "cell_type": "markdown",
   "metadata": {},
   "source": [
    "### Check the Balance of the dataset:"
   ]
  },
  {
   "cell_type": "code",
   "execution_count": null,
   "metadata": {
    "scrolled": true
   },
   "outputs": [],
   "source": [
    "print(df.shape)\n",
    "pd.value_counts(df['billboard'],normalize=(True)).plot.bar()\n",
    "plt.savefig('../figures/balance.png',dpi=300)"
   ]
  },
  {
   "cell_type": "markdown",
   "metadata": {},
   "source": [
    "### Check the independence of parameters"
   ]
  },
  {
   "cell_type": "code",
   "execution_count": null,
   "metadata": {},
   "outputs": [],
   "source": [
    "#df_corr_plot = df\n",
    "#df_corr_plot.drop(['date_year','date_day','date_month'],axis=1,inplace=True)\n",
    "plt.figure(figsize=(5,5))\n",
    "\n",
    "df_corr_plot = df\n",
    "df_corr_plot.drop(['date_year','date_day','date_month'],axis=1,inplace=True)\n",
    "plt.matshow(df.corr(),vmin=-1,vmax=1,cmap='seismic',fignum=0)\n",
    "plt.colorbar(label='corr. coeff.')\n",
    "plt.xticks(np.arange(df.corr().shape[0]),list(df.corr().columns),rotation=90)\n",
    "plt.yticks(np.arange(df.corr().shape[0]),list(df.corr().columns))\n",
    "plt.tight_layout()\n",
    "plt.savefig('../figures/corr_coeff.png',dpi=300)\n",
    "\n",
    "plt.show()"
   ]
  },
  {
   "cell_type": "markdown",
   "metadata": {},
   "source": [
    "### Check the effect of features with label"
   ]
  },
  {
   "cell_type": "markdown",
   "metadata": {},
   "source": [
    "### Violin Plots for acoustic features across billboard"
   ]
  },
  {
   "cell_type": "code",
   "execution_count": null,
   "metadata": {
    "scrolled": true
   },
   "outputs": [],
   "source": [
    "for column in cont_cols:\n",
    "    mini_set = [df[df[label] == 1][column].values, df[df[label] == 0][column].values]\n",
    "    plt.violinplot(dataset = mini_set)\n",
    "    plt.xticks([1,2],['1','0'])\n",
    "    plt.ylabel(column)\n",
    "    plt.xlabel(\"Billboard\")\n",
    "    plt.suptitle(\"\")\n",
    "    fname = '../figures/violin_'+str(column)+'.png'\n",
    "    plt.savefig(fname,dpi=300)\n",
    "    plt.show()"
   ]
  },
  {
   "cell_type": "markdown",
   "metadata": {},
   "source": [
    "### Scatter plots for features with years"
   ]
  },
  {
   "cell_type": "code",
   "execution_count": null,
   "metadata": {
    "scrolled": false
   },
   "outputs": [],
   "source": [
    "for column in cont_cols:\n",
    "    fg = sns.FacetGrid(data=df_raw, hue='billboard', hue_order=[0,1], aspect=1.61)\n",
    "    fg.map(plt.scatter, 'date_year', column, alpha=0.1).add_legend()\n",
    "    fname = '../figures/scatter_year_'+str(column)+'.png'\n",
    "    fg.savefig(fname,dpi=300)"
   ]
  },
  {
   "cell_type": "markdown",
   "metadata": {},
   "source": [
    "### Histograms for features in decade"
   ]
  },
  {
   "cell_type": "code",
   "execution_count": null,
   "metadata": {
    "scrolled": false
   },
   "outputs": [],
   "source": [
    "for column in cont_cols:\n",
    "    categories = df_raw['decade'].unique()\n",
    "    bin_range = (df_raw[column].min(),df_raw[column].max())\n",
    "\n",
    "    for c in categories:\n",
    "        plt.hist(df_raw[df_raw['decade']==c][column],alpha=0.5,label=str(c),range=bin_range,bins=10,normed=True)\n",
    "\n",
    "    plt.legend()\n",
    "    plt.ylabel('count')\n",
    "    plt.xlabel(column)\n",
    "    fname = '../figures/histo_decade'+str(column)+'.png'\n",
    "    plt.savefig(fname,dpi=300)\n",
    "    plt.show()"
   ]
  },
  {
   "cell_type": "markdown",
   "metadata": {},
   "source": [
    "### Scatter Matrix"
   ]
  },
  {
   "cell_type": "code",
   "execution_count": null,
   "metadata": {},
   "outputs": [],
   "source": [
    "pd.plotting.scatter_matrix(df[['instrumentalness','duration_ms','time_signature']],c = df['billboard'], figsize=(15, 15), marker='o',\n",
    "                           hist_kwds={'bins': 20}, s=60, alpha=.8)\n",
    "#plt.savefig('figures/scatter_matrix_dummies.png',dpi=300)\n",
    "handles = [plt.plot([],[], ls=\"\", marker=\"o\", \\\n",
    "                    markersize=np.sqrt(10))[0] for i in range(2)]\n",
    "labels=[\"0\",\"1\"]\n",
    "plt.legend(handles, labels, loc=(1.02,0))\n",
    "plt.show()\n",
    "plt.show()"
   ]
  },
  {
   "cell_type": "markdown",
   "metadata": {},
   "source": [
    "### Decade wise count matrix for billboard"
   ]
  },
  {
   "cell_type": "code",
   "execution_count": null,
   "metadata": {},
   "outputs": [],
   "source": [
    "df_cm = df_raw[df_raw['date_year'] > 1950]\n",
    "count_matrix = df_cm.groupby(['decade', label]).size().unstack()\n",
    "print(count_matrix)\n",
    "\n",
    "count_matrix_norm = count_matrix.div(count_matrix.sum(axis=1),axis=0)\n",
    "\n",
    "plt.matshow(count_matrix_norm.T,vmin=0,vmax=1)\n",
    "plt.xticks(np.arange(count_matrix_norm.shape[0]),count_matrix_norm.index,rotation=90)\n",
    "plt.yticks(np.arange(count_matrix_norm.shape[1]),count_matrix_norm.columns)\n",
    "plt.colorbar(label='fraction')\n",
    "plt.savefig('../figures/decade_billboard.png')"
   ]
  },
  {
   "cell_type": "code",
   "execution_count": null,
   "metadata": {},
   "outputs": [],
   "source": [
    "count_matrix_norm.plot(kind='bar', stacked=True)\n",
    "plt.ylabel('Billboard')\n",
    "plt.legend(loc=3)\n",
    "plt.savefig('../figures/decade_stacked_bar.png',dpi=300)\n",
    "plt.show()"
   ]
  },
  {
   "cell_type": "markdown",
   "metadata": {},
   "source": [
    "### Box plots checking variation of features with decade"
   ]
  },
  {
   "cell_type": "code",
   "execution_count": null,
   "metadata": {},
   "outputs": [],
   "source": [
    "import matplotlib.ticker as mticker\n",
    "\n",
    "for column in cont_cols:\n",
    "    df_raw[[column,'decade']].boxplot(by='decade')\n",
    "    plt.ylabel(column)\n",
    "    plt.xlabel('decade')\n",
    "    plt.suptitle(\"\")\n",
    "    fname = '../figures/box_decade'+str(column)+'.png'\n",
    "    plt.savefig(fname,dpi=300)\n",
    "    plt.show()"
   ]
  },
  {
   "cell_type": "markdown",
   "metadata": {},
   "source": [
    "### Heatmaps for feature to feature interaction"
   ]
  },
  {
   "cell_type": "code",
   "execution_count": null,
   "metadata": {},
   "outputs": [],
   "source": []
  },
  {
   "cell_type": "code",
   "execution_count": null,
   "metadata": {},
   "outputs": [],
   "source": [
    "from matplotlib.ticker import FormatStrFormatter\n",
    "\n",
    "for (column1,column2) in itertools.combinations(cont_cols,2):\n",
    "    heatmap, xedges, yedges = np.histogram2d(df_raw[df_raw['billboard'] == 0][column1], df_raw[df_raw['billboard'] == 0][column2], bins=20, normed=True)\n",
    "    extent = [round(xedges[0],2), round(xedges[-1],2), round(yedges[0],2), round(yedges[-1],2)]\n",
    "\n",
    "    plt.imshow(heatmap.T, origin='lower')\n",
    "    plt.xlabel(column1)\n",
    "    plt.ylabel(column2)\n",
    "    plt.xticks(np.around(np.arange(20)[::5],decimals=4),np.around(xedges[::5],decimals=4))\n",
    "    plt.yticks(np.around(np.arange(20)[::5],decimals=4),np.around(yedges[::5],decimals=4))\n",
    "    plt.colorbar(label='count')\n",
    "    fname = '../figures/heatmap'+str(column1)+'_'+str(column2)+'_0.png'\n",
    "    plt.savefig(fname,dpi=300)\n",
    "    plt.show()"
   ]
  },
  {
   "cell_type": "code",
   "execution_count": null,
   "metadata": {},
   "outputs": [],
   "source": [
    "for (column1,column2) in itertools.combinations(cont_cols,2):\n",
    "    heatmap, xedges, yedges = np.histogram2d(df_raw[df_raw['billboard'] == 1][column1], df_raw[df_raw['billboard'] == 1][column2], bins=20, normed=True)\n",
    "    extent = [xedges[0], xedges[-1], yedges[0], yedges[-1]]\n",
    "\n",
    "    plt.imshow(heatmap.T, origin='lower')\n",
    "    plt.xlabel(column1)\n",
    "    plt.ylabel(column2)\n",
    "    plt.xticks(np.around(np.arange(20)[::5],decimals=4),np.around(xedges[::5],decimals=4))\n",
    "    plt.yticks(np.around(np.arange(20)[::5],decimals=4),np.around(yedges[::5],decimals=4))\n",
    "    plt.colorbar(label='count')\n",
    "    fname = '../figures/heatmap'+str(column1)+'_'+str(column2)+'_1.png'\n",
    "    plt.savefig(fname,dpi=300)\n",
    "    plt.show()"
   ]
  },
  {
   "cell_type": "code",
   "execution_count": 7,
   "metadata": {},
   "outputs": [
    {
     "data": {
      "image/png": "[encoded data removed]",
      "text/plain": [
       "<matplotlib.figure.Figure at 0x7f2403ce7cf8>"
      ]
     },
     "metadata": {},
     "output_type": "display_data"
    }
   ],
   "source": [
    "df_raw['mode'].hist(bins=2)\n",
    "plt.ylabel('count')\n",
    "plt.xlabel('Mode')\n",
    "plt.xticks([0,0.5,1])\n",
    "plt.savefig('../figures/mode_explained.png',bbox_inches='tight')"
   ]
  },
  {
   "cell_type": "code",
   "execution_count": null,
   "metadata": {},
   "outputs": [],
   "source": [
    "df_raw['time_signature'].unique()"
   ]
  },
  {
   "cell_type": "code",
   "execution_count": 8,
   "metadata": {},
   "outputs": [
    {
     "data": {
      "image/png": "[encoded data removed]",
      "text/plain": [
       "<matplotlib.figure.Figure at 0x7f2403ca1470>"
      ]
     },
     "metadata": {},
     "output_type": "display_data"
    }
   ],
   "source": [
    "df_raw['time_signature'].hist(bins=5)\n",
    "plt.ylabel('count')\n",
    "plt.xlabel('Time Signature')\n",
    "plt.xticks([0,1,3,4,5])\n",
    "plt.savefig('../figures/time_signature.png',bbox_inches='tight')"
   ]
  },
  {
   "cell_type": "code",
   "execution_count": null,
   "metadata": {},
   "outputs": [],
   "source": [
    "df_raw['duration_ms'].hist()"
   ]
  },
  {
   "cell_type": "code",
   "execution_count": null,
   "metadata": {},
   "outputs": [],
   "source": [
    "df_raw[df_raw['date_year'] > 2015]['billboard']"
   ]
  },
  {
   "cell_type": "code",
   "execution_count": null,
   "metadata": {},
   "outputs": [],
   "source": []
  }
 ],
 "metadata": {
  "kernelspec": {
   "display_name": "Python 3",
   "language": "python",
   "name": "python3"
  },
  "language_info": {
   "codemirror_mode": {
    "name": "ipython",
    "version": 3
   },
   "file_extension": ".py",
   "mimetype": "text/x-python",
   "name": "python",
   "nbconvert_exporter": "python",
   "pygments_lexer": "ipython3",
   "version": "3.6.4"
  },
  "varInspector": {
   "cols": {
    "lenName": 16,
    "lenType": 16,
    "lenVar": 40
   },
   "kernels_config": {
    "python": {
     "delete_cmd_postfix": "",
     "delete_cmd_prefix": "del ",
     "library": "var_list.py",
     "varRefreshCmd": "print(var_dic_list())"
    },
    "r": {
     "delete_cmd_postfix": ") ",
     "delete_cmd_prefix": "rm(",
     "library": "var_list.r",
     "varRefreshCmd": "cat(var_dic_list()) "
    }
   },
   "types_to_exclude": [
    "module",
    "function",
    "builtin_function_or_method",
    "instance",
    "_Feature"
   ],
   "window_display": false
  }
 },
 "nbformat": 4,
 "nbformat_minor": 2
}
