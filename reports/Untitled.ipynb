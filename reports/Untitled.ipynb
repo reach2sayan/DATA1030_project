{
 "cells": [
  {
   "cell_type": "code",
   "execution_count": 5,
   "metadata": {},
   "outputs": [
    {
     "name": "stdout",
     "output_type": "stream",
     "text": [
      "Pretty printing has been turned ON\n"
     ]
    }
   ],
   "source": [
    "import pandas as pd\n",
    "import numpy as np\n",
    "import pprint\n",
    "df = pd.read_csv('../data/data_raw_big_11.csv')\n",
    "%pprint"
   ]
  },
  {
   "cell_type": "code",
   "execution_count": 15,
   "metadata": {},
   "outputs": [
    {
     "name": "stdout",
     "output_type": "stream",
     "text": [
      "   acousticness                album_id               artist_id  billboard  \\\n",
      "0       0.00784  2Auw0pTT6EcQdvHNimhLQI  04gDigrS5kc9YWfZHwBETP        1.0   \n",
      "1       0.05910  2Auw0pTT6EcQdvHNimhLQI  04gDigrS5kc9YWfZHwBETP        1.0   \n",
      "2       0.28400  2Auw0pTT6EcQdvHNimhLQI  04gDigrS5kc9YWfZHwBETP        1.0   \n",
      "\n",
      "   danceability        date  duration_ms  energy                      id  \\\n",
      "0         0.532  2015-05-15     238200.0   0.599  1m39XApxHXb2UkGItyyIUO   \n",
      "1         0.748  2015-05-15     235493.0   0.788  2iuZJX9X9P0GKaE93xcPjk   \n",
      "2         0.501  2015-05-15     203453.0   0.704  13YQutqrAhT5iX9HOctlu5   \n",
      "\n",
      "   instrumentalness  key  length  liveness  loudness  mode  speechiness  \\\n",
      "0               0.0  6.0    12.0    0.1400    -6.543   1.0       0.0333   \n",
      "1               0.0  1.0    12.0    0.0863    -7.055   1.0       0.0334   \n",
      "2               0.0  3.0    12.0    0.1550    -5.640   1.0       0.0326   \n",
      "\n",
      "     tempo  time_signature  track_length  valence  \n",
      "0  130.019             4.0     225984.25    0.113  \n",
      "1  120.076             4.0     225984.25    0.884  \n",
      "2   97.039             4.0     225984.25    0.270  \n"
     ]
    }
   ],
   "source": [
    "print(df.head(3))"
   ]
  },
  {
   "cell_type": "code",
   "execution_count": null,
   "metadata": {},
   "outputs": [],
   "source": []
  }
 ],
 "metadata": {
  "celltoolbar": "Slideshow",
  "kernelspec": {
   "display_name": "Python 3",
   "language": "python",
   "name": "python3"
  },
  "language_info": {
   "codemirror_mode": {
    "name": "ipython",
    "version": 3
   },
   "file_extension": ".py",
   "mimetype": "text/x-python",
   "name": "python",
   "nbconvert_exporter": "python",
   "pygments_lexer": "ipython3",
   "version": "3.6.4"
  }
 },
 "nbformat": 4,
 "nbformat_minor": 2
}
